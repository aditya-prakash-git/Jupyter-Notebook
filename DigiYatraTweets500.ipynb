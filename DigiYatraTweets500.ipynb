{
 "cells": [
  {
   "cell_type": "code",
   "execution_count": 5,
   "id": "1c560c20",
   "metadata": {},
   "outputs": [
    {
     "name": "stdout",
     "output_type": "stream",
     "text": [
      "Requirement already satisfied: snscrape in c:\\users\\sudha\\anaconda3\\lib\\site-packages (0.6.2.20230320)\n",
      "Requirement already satisfied: requests[socks] in c:\\users\\sudha\\anaconda3\\lib\\site-packages (from snscrape) (2.28.1)\n",
      "Requirement already satisfied: lxml in c:\\users\\sudha\\anaconda3\\lib\\site-packages (from snscrape) (4.9.1)\n",
      "Requirement already satisfied: beautifulsoup4 in c:\\users\\sudha\\anaconda3\\lib\\site-packages (from snscrape) (4.11.1)\n",
      "Requirement already satisfied: filelock in c:\\users\\sudha\\anaconda3\\lib\\site-packages (from snscrape) (3.6.0)\n",
      "Requirement already satisfied: soupsieve>1.2 in c:\\users\\sudha\\anaconda3\\lib\\site-packages (from beautifulsoup4->snscrape) (2.3.1)\n",
      "Requirement already satisfied: charset-normalizer<3,>=2 in c:\\users\\sudha\\anaconda3\\lib\\site-packages (from requests[socks]->snscrape) (2.0.4)\n",
      "Requirement already satisfied: idna<4,>=2.5 in c:\\users\\sudha\\anaconda3\\lib\\site-packages (from requests[socks]->snscrape) (3.3)\n",
      "Requirement already satisfied: urllib3<1.27,>=1.21.1 in c:\\users\\sudha\\anaconda3\\lib\\site-packages (from requests[socks]->snscrape) (1.26.11)\n",
      "Requirement already satisfied: certifi>=2017.4.17 in c:\\users\\sudha\\anaconda3\\lib\\site-packages (from requests[socks]->snscrape) (2022.9.14)\n",
      "Requirement already satisfied: PySocks!=1.5.7,>=1.5.6 in c:\\users\\sudha\\anaconda3\\lib\\site-packages (from requests[socks]->snscrape) (1.7.1)\n",
      "Note: you may need to restart the kernel to use updated packages.\n"
     ]
    }
   ],
   "source": [
    "pip install snscrape"
   ]
  },
  {
   "cell_type": "code",
   "execution_count": 6,
   "id": "139a1b44",
   "metadata": {},
   "outputs": [],
   "source": [
    "import snscrape.modules.twitter as sntwitter\n",
    "import pandas as pd"
   ]
  },
  {
   "cell_type": "code",
   "execution_count": 7,
   "id": "5f7c9664",
   "metadata": {},
   "outputs": [],
   "source": [
    "query = \"digiyatra , DigiYatra (#digiyatra OR #DigiYatra) until:2023-04-08 since:2022-12-01\""
   ]
  },
  {
   "cell_type": "code",
   "execution_count": 8,
   "id": "5a8c6bb9",
   "metadata": {},
   "outputs": [
    {
     "name": "stderr",
     "output_type": "stream",
     "text": [
      "C:\\Users\\sudha\\AppData\\Local\\Temp\\ipykernel_35584\\1105230039.py:5: DeprecatedFeatureWarning: content is deprecated, use rawContent instead\n",
      "  df.append([ tweet.content, tweet.date])\n"
     ]
    }
   ],
   "source": [
    "df = []\n",
    "for i, tweet in enumerate(sntwitter.TwitterSearchScraper(query).get_items()):\n",
    "    if i > 500:\n",
    "        break\n",
    "    df.append([ tweet.content, tweet.date])\n",
    "Data = pd.DataFrame(df,columns=['content', 'date'])"
   ]
  },
  {
   "cell_type": "code",
   "execution_count": 11,
   "id": "0245d46e",
   "metadata": {},
   "outputs": [
    {
     "data": {
      "text/html": [
       "<div>\n",
       "<style scoped>\n",
       "    .dataframe tbody tr th:only-of-type {\n",
       "        vertical-align: middle;\n",
       "    }\n",
       "\n",
       "    .dataframe tbody tr th {\n",
       "        vertical-align: top;\n",
       "    }\n",
       "\n",
       "    .dataframe thead th {\n",
       "        text-align: right;\n",
       "    }\n",
       "</style>\n",
       "<table border=\"1\" class=\"dataframe\">\n",
       "  <thead>\n",
       "    <tr style=\"text-align: right;\">\n",
       "      <th></th>\n",
       "      <th>content</th>\n",
       "      <th>date</th>\n",
       "    </tr>\n",
       "  </thead>\n",
       "  <tbody>\n",
       "    <tr>\n",
       "      <th>0</th>\n",
       "      <td>Ashneer Grover tweets about glitches on #DigiY...</td>\n",
       "      <td>2023-04-07 22:52:21+00:00</td>\n",
       "    </tr>\n",
       "    <tr>\n",
       "      <th>1</th>\n",
       "      <td>DIGI YATRA APP is a miracle ❤️\\nEscaped long l...</td>\n",
       "      <td>2023-04-07 21:42:09+00:00</td>\n",
       "    </tr>\n",
       "    <tr>\n",
       "      <th>2</th>\n",
       "      <td>I am hoping #digiyatra comes to @aaichnairport...</td>\n",
       "      <td>2023-04-07 19:21:23+00:00</td>\n",
       "    </tr>\n",
       "    <tr>\n",
       "      <th>3</th>\n",
       "      <td>@dataevolve_ Seriously 🤐\\nVerification, Verifi...</td>\n",
       "      <td>2023-04-07 18:57:56+00:00</td>\n",
       "    </tr>\n",
       "    <tr>\n",
       "      <th>4</th>\n",
       "      <td>@MoCA_GoI @aaikolairport the #Digiyatra was no...</td>\n",
       "      <td>2023-04-07 16:50:14+00:00</td>\n",
       "    </tr>\n",
       "    <tr>\n",
       "      <th>...</th>\n",
       "      <td>...</td>\n",
       "      <td>...</td>\n",
       "    </tr>\n",
       "    <tr>\n",
       "      <th>496</th>\n",
       "      <td>Took me less than 10 mins from cab drop to rea...</td>\n",
       "      <td>2023-02-24 07:44:07+00:00</td>\n",
       "    </tr>\n",
       "    <tr>\n",
       "      <th>497</th>\n",
       "      <td>The #DigiYatra programme aims to encourage sea...</td>\n",
       "      <td>2023-02-24 07:40:00+00:00</td>\n",
       "    </tr>\n",
       "    <tr>\n",
       "      <th>498</th>\n",
       "      <td>Launched in December 2022 at 3 #airports in In...</td>\n",
       "      <td>2023-02-24 04:51:27+00:00</td>\n",
       "    </tr>\n",
       "    <tr>\n",
       "      <th>499</th>\n",
       "      <td>In Varanasi — the number of Digi Yatra users h...</td>\n",
       "      <td>2023-02-24 04:40:40+00:00</td>\n",
       "    </tr>\n",
       "    <tr>\n",
       "      <th>500</th>\n",
       "      <td>Amazing experience with Digi Yatra. Entering t...</td>\n",
       "      <td>2023-02-24 04:24:07+00:00</td>\n",
       "    </tr>\n",
       "  </tbody>\n",
       "</table>\n",
       "<p>501 rows × 2 columns</p>\n",
       "</div>"
      ],
      "text/plain": [
       "                                               content  \\\n",
       "0    Ashneer Grover tweets about glitches on #DigiY...   \n",
       "1    DIGI YATRA APP is a miracle ❤️\\nEscaped long l...   \n",
       "2    I am hoping #digiyatra comes to @aaichnairport...   \n",
       "3    @dataevolve_ Seriously 🤐\\nVerification, Verifi...   \n",
       "4    @MoCA_GoI @aaikolairport the #Digiyatra was no...   \n",
       "..                                                 ...   \n",
       "496  Took me less than 10 mins from cab drop to rea...   \n",
       "497  The #DigiYatra programme aims to encourage sea...   \n",
       "498  Launched in December 2022 at 3 #airports in In...   \n",
       "499  In Varanasi — the number of Digi Yatra users h...   \n",
       "500  Amazing experience with Digi Yatra. Entering t...   \n",
       "\n",
       "                         date  \n",
       "0   2023-04-07 22:52:21+00:00  \n",
       "1   2023-04-07 21:42:09+00:00  \n",
       "2   2023-04-07 19:21:23+00:00  \n",
       "3   2023-04-07 18:57:56+00:00  \n",
       "4   2023-04-07 16:50:14+00:00  \n",
       "..                        ...  \n",
       "496 2023-02-24 07:44:07+00:00  \n",
       "497 2023-02-24 07:40:00+00:00  \n",
       "498 2023-02-24 04:51:27+00:00  \n",
       "499 2023-02-24 04:40:40+00:00  \n",
       "500 2023-02-24 04:24:07+00:00  \n",
       "\n",
       "[501 rows x 2 columns]"
      ]
     },
     "execution_count": 11,
     "metadata": {},
     "output_type": "execute_result"
    }
   ],
   "source": [
    "Data"
   ]
  },
  {
   "cell_type": "code",
   "execution_count": 12,
   "id": "781d2ab5",
   "metadata": {},
   "outputs": [],
   "source": [
    "Data.to_csv('DigiYatraTweets.csv')"
   ]
  },
  {
   "cell_type": "code",
   "execution_count": null,
   "id": "a8e282a9",
   "metadata": {},
   "outputs": [],
   "source": []
  }
 ],
 "metadata": {
  "kernelspec": {
   "display_name": "Python 3 (ipykernel)",
   "language": "python",
   "name": "python3"
  },
  "language_info": {
   "codemirror_mode": {
    "name": "ipython",
    "version": 3
   },
   "file_extension": ".py",
   "mimetype": "text/x-python",
   "name": "python",
   "nbconvert_exporter": "python",
   "pygments_lexer": "ipython3",
   "version": "3.11.3"
  }
 },
 "nbformat": 4,
 "nbformat_minor": 5
}
